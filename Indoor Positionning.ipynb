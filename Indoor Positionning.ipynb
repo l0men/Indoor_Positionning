{
 "cells": [
  {
   "metadata": {},
   "cell_type": "markdown",
   "source": [
    "# Indoor Positionning\n",
    "\n",
    "## How to detect where we are with the power of wifi signals\n",
    "\n",
    "We assume that we already have capture the different fingerprint of every position, now we are going to create the fingerprint map"
   ],
   "id": "c98d2a20574b046b"
  },
  {
   "metadata": {
    "ExecuteTime": {
     "end_time": "2024-06-16T12:13:54.909939Z",
     "start_time": "2024-06-16T12:13:54.124911Z"
    }
   },
   "cell_type": "code",
   "source": [
    "import pandas as pd\n",
    "import math\n",
    "\n",
    "data = 'map.csv'\n",
    "\n",
    "map = pd.read_csv(data)\n",
    "print(map)\n",
    "macs = list(map['MAC'])\n",
    "print(macs)\n",
    "map = map.drop(map.columns[0], axis=1) # We take only the data columns, we drop the MAC adresses\n",
    "map = map.astype(float) # data are originally Strings and we convert them to floats\n",
    "\n",
    "columns = list(map.columns)\n",
    "\n",
    "#print(map)"
   ],
   "id": "391c062376549906",
   "outputs": [
    {
     "name": "stdout",
     "output_type": "stream",
     "text": [
      "                  MAC  A304(1)  A304(2)  A304(3)  A304(4)  A305(1)  A305(2)  \\\n",
      "0   00:F6:63:14:DF:60  -100.00  -100.00  -100.00  -100.00  -100.00  -100.00   \n",
      "1   04:DA:D2:90:09:61  -100.00  -100.00  -100.00  -100.00  -100.00  -100.00   \n",
      "2   04:DA:D2:AA:5B:81  -100.00  -100.00  -100.00  -100.00  -100.00  -100.00   \n",
      "3   20:BB:C0:4B:94:01   -64.06   -58.51   -62.29   -58.47   -70.37   -77.03   \n",
      "4   20:BB:C0:4B:97:C1  -100.00  -100.00  -100.00  -100.00  -100.00  -100.00   \n",
      "5   20:BB:C0:4B:9E:C1  -100.00   -92.00  -100.00   -92.00   -83.66   -87.97   \n",
      "6   20:BB:C0:4B:9F:81   -89.55   -89.47   -89.89   -89.00   -88.55   -86.79   \n",
      "7   20:BB:C0:4B:A2:31  -100.00   -90.23   -88.00   -90.00   -91.00   -88.00   \n",
      "8   20:BB:C0:4B:D7:21   -95.00  -100.00   -92.36  -100.00  -100.00  -100.00   \n",
      "9   20:BB:C0:4B:E5:C1   -90.00   -91.00  -100.00   -92.47   -90.89   -90.89   \n",
      "10  50:06:04:5B:1E:D1  -100.00  -100.00  -100.00  -100.00  -100.00  -100.00   \n",
      "11  50:06:04:5B:44:E1   -91.00  -100.00   -93.00  -100.00  -100.00  -100.00   \n",
      "12  50:06:04:5B:45:E1   -90.97   -92.36   -92.00   -93.48  -100.00  -100.00   \n",
      "13  50:06:04:66:71:F1   -56.46   -55.39   -58.20   -58.22   -74.74   -75.67   \n",
      "14  50:06:04:66:72:11  -100.00  -100.00  -100.00  -100.00  -100.00  -100.00   \n",
      "15  50:06:04:66:74:01  -100.00   -91.00   -88.00  -100.00  -100.00  -100.00   \n",
      "16  50:06:04:66:8B:51  -100.00  -100.00  -100.00  -100.00  -100.00  -100.00   \n",
      "17  50:06:04:66:8C:D1  -100.00  -100.00  -100.00  -100.00  -100.00   -92.00   \n",
      "18  50:06:04:66:91:D1   -69.84   -75.57   -69.23   -73.32   -70.74   -73.16   \n",
      "19  50:2F:A8:F2:14:90  -100.00  -100.00  -100.00  -100.00  -100.00  -100.00   \n",
      "20  90:77:EE:68:03:C0  -100.00  -100.00  -100.00  -100.00  -100.00  -100.00   \n",
      "21  CC:16:7E:13:20:80  -100.00   -90.00  -100.00   -94.00  -100.00  -100.00   \n",
      "22  CC:16:7E:15:F0:D0  -100.00  -100.00  -100.00  -100.00  -100.00  -100.00   \n",
      "23  CC:16:7E:15:F2:B0   -90.00  -100.00   -91.47  -100.00  -100.00   -89.47   \n",
      "\n",
      "    A305(3)  A305(4)  A306(1)  ...  A307(3)  A307(4)  A308(1)  A308(2)  \\\n",
      "0   -100.00  -100.00  -100.00  ...   -90.76   -91.23   -95.00   -92.00   \n",
      "1   -100.00  -100.00  -100.00  ...  -100.00  -100.00  -100.00  -100.00   \n",
      "2   -100.00  -100.00  -100.00  ...  -100.00  -100.00  -100.00  -100.00   \n",
      "3    -70.54   -72.34   -59.84  ...   -59.83   -60.02   -70.47   -69.33   \n",
      "4   -100.00  -100.00  -100.00  ...  -100.00  -100.00  -100.00  -100.00   \n",
      "5    -85.23   -84.94   -83.64  ...   -79.92   -77.22   -85.23   -86.70   \n",
      "6    -87.00   -90.48  -100.00  ...  -100.00  -100.00  -100.00  -100.00   \n",
      "7    -88.32   -88.22   -88.00  ...  -100.00  -100.00  -100.00  -100.00   \n",
      "8   -100.00  -100.00  -100.00  ...  -100.00  -100.00  -100.00  -100.00   \n",
      "9    -91.00   -90.25  -100.00  ...  -100.00  -100.00  -100.00  -100.00   \n",
      "10  -100.00  -100.00  -100.00  ...  -100.00  -100.00  -100.00  -100.00   \n",
      "11  -100.00  -100.00   -92.00  ...  -100.00  -100.00  -100.00  -100.00   \n",
      "12  -100.00  -100.00  -100.00  ...  -100.00  -100.00   -93.00   -94.00   \n",
      "13   -75.36   -73.46   -70.99  ...   -72.69   -71.21   -77.59   -77.26   \n",
      "14  -100.00  -100.00  -100.00  ...  -100.00  -100.00  -100.00  -100.00   \n",
      "15  -100.00  -100.00  -100.00  ...  -100.00  -100.00  -100.00  -100.00   \n",
      "16  -100.00  -100.00  -100.00  ...   -94.00  -100.00  -100.00  -100.00   \n",
      "17  -100.00  -100.00  -100.00  ...   -94.00  -100.00  -100.00  -100.00   \n",
      "18   -74.25   -73.91   -86.31  ...   -85.42   -83.54   -76.76   -80.75   \n",
      "19  -100.00  -100.00   -89.89  ...  -100.00  -100.00  -100.00  -100.00   \n",
      "20   -90.00  -100.00  -100.00  ...  -100.00  -100.00  -100.00  -100.00   \n",
      "21  -100.00   -93.00  -100.00  ...  -100.00  -100.00  -100.00  -100.00   \n",
      "22  -100.00  -100.00  -100.00  ...   -90.25   -89.36  -100.00  -100.00   \n",
      "23   -92.00   -94.89  -100.00  ...  -100.00  -100.00  -100.00  -100.00   \n",
      "\n",
      "    A308(3)  A308(4)  A309(1)  A309(2)  A309(3)  A309(4)  \n",
      "0    -93.00   -93.00  -100.00   -92.00   -94.89  -100.00  \n",
      "1   -100.00  -100.00  -100.00  -100.00  -100.00  -100.00  \n",
      "2   -100.00  -100.00  -100.00  -100.00  -100.00  -100.00  \n",
      "3    -72.51   -70.68   -69.52   -75.33   -70.55   -70.45  \n",
      "4   -100.00  -100.00   -95.00  -100.00  -100.00  -100.00  \n",
      "5    -87.16   -87.57   -91.00  -100.00  -100.00  -100.00  \n",
      "6   -100.00  -100.00  -100.00  -100.00  -100.00  -100.00  \n",
      "7   -100.00  -100.00  -100.00  -100.00  -100.00  -100.00  \n",
      "8   -100.00  -100.00  -100.00  -100.00  -100.00  -100.00  \n",
      "9   -100.00  -100.00  -100.00  -100.00  -100.00  -100.00  \n",
      "10  -100.00  -100.00   -91.00   -87.00  -100.00   -91.00  \n",
      "11  -100.00  -100.00  -100.00  -100.00  -100.00  -100.00  \n",
      "12  -100.00   -96.00   -90.57   -88.64   -90.57   -86.94  \n",
      "13   -81.20   -74.95   -69.77   -73.30   -71.55   -69.52  \n",
      "14  -100.00  -100.00  -100.00  -100.00   -93.00  -100.00  \n",
      "15  -100.00  -100.00  -100.00  -100.00  -100.00  -100.00  \n",
      "16  -100.00  -100.00  -100.00  -100.00  -100.00  -100.00  \n",
      "17  -100.00  -100.00   -90.00  -100.00  -100.00  -100.00  \n",
      "18   -77.84   -73.63   -69.90   -69.68   -74.58   -67.28  \n",
      "19  -100.00  -100.00  -100.00  -100.00  -100.00  -100.00  \n",
      "20  -100.00  -100.00  -100.00  -100.00  -100.00  -100.00  \n",
      "21  -100.00  -100.00  -100.00  -100.00  -100.00  -100.00  \n",
      "22  -100.00   -91.00  -100.00  -100.00  -100.00  -100.00  \n",
      "23  -100.00  -100.00  -100.00  -100.00  -100.00  -100.00  \n",
      "\n",
      "[24 rows x 23 columns]\n",
      "['00:F6:63:14:DF:60', '04:DA:D2:90:09:61', '04:DA:D2:AA:5B:81', '20:BB:C0:4B:94:01', '20:BB:C0:4B:97:C1', '20:BB:C0:4B:9E:C1', '20:BB:C0:4B:9F:81', '20:BB:C0:4B:A2:31', '20:BB:C0:4B:D7:21', '20:BB:C0:4B:E5:C1', '50:06:04:5B:1E:D1', '50:06:04:5B:44:E1', '50:06:04:5B:45:E1', '50:06:04:66:71:F1', '50:06:04:66:72:11', '50:06:04:66:74:01', '50:06:04:66:8B:51', '50:06:04:66:8C:D1', '50:06:04:66:91:D1', '50:2F:A8:F2:14:90', '90:77:EE:68:03:C0', 'CC:16:7E:13:20:80', 'CC:16:7E:15:F0:D0', 'CC:16:7E:15:F2:B0']\n"
     ]
    }
   ],
   "execution_count": 1
  },
  {
   "metadata": {},
   "cell_type": "markdown",
   "source": [
    "We have our map in a DataFrame of floats, columns is a list containing the names of each vector corresponding to a zone\n",
    "\n",
    "Then we have to import some random sample to compare with our map"
   ],
   "id": "3d049ac9f414d863"
  },
  {
   "metadata": {
    "ExecuteTime": {
     "end_time": "2024-06-16T12:53:53.250486Z",
     "start_time": "2024-06-16T12:53:53.241611Z"
    }
   },
   "cell_type": "code",
   "source": [
    "echantillons = 'tests.csv'\n",
    "\n",
    "samples = pd.read_csv(echantillons)\n",
    "\n",
    "test1 = samples['1']\n",
    "\n",
    "print(test1)"
   ],
   "id": "9f8da8d6ff8ec5c9",
   "outputs": [
    {
     "name": "stdout",
     "output_type": "stream",
     "text": [
      "0    -100.00\n",
      "1    -100.00\n",
      "2    -100.00\n",
      "3     -69.70\n",
      "4    -100.00\n",
      "5     -84.36\n",
      "6    -100.00\n",
      "7    -100.00\n",
      "8    -100.00\n",
      "9    -100.00\n",
      "10   -100.00\n",
      "11   -100.00\n",
      "12   -100.00\n",
      "13    -76.36\n",
      "14   -100.00\n",
      "15   -100.00\n",
      "16   -100.00\n",
      "17    -92.00\n",
      "18    -81.16\n",
      "19   -100.00\n",
      "20   -100.00\n",
      "21   -100.00\n",
      "22   -100.00\n",
      "23   -100.00\n",
      "Name: 1, dtype: float64\n"
     ]
    }
   ],
   "execution_count": 3
  },
  {
   "metadata": {},
   "cell_type": "markdown",
   "source": [
    "Now we have a sample and a map so we need to see where we are in the map so we are going to compare it to the map vector by calculating the euclidian distance between the map position vector number i: $Mi$ and the test position $X$, $n$ represent the dimension of the vectors:\n",
    "\n",
    "Euclidian distance:$\\sqrt{(Mi_1 - X_1)^2+(Mi_2 - X_2)^2+...+(Mi_n - X_n)^2}$\n",
    "\n",
    "For that we create the function nearestPosition that return the index of the shortest distance"
   ],
   "id": "24b53ea1481b2c06"
  },
  {
   "metadata": {
    "ExecuteTime": {
     "end_time": "2024-06-12T21:28:03.251200Z",
     "start_time": "2024-06-12T21:28:03.246540Z"
    }
   },
   "cell_type": "code",
   "source": [
    "def nearestPosition (test, map):\n",
    "\n",
    "    dist = []\n",
    "\n",
    "    for pos in list(map.columns):\n",
    "\n",
    "        diff = []\n",
    "\n",
    "        for i in range(map.shape[0]):\n",
    "            diff.append((float(test[i]) - float(map[pos][i]))**2)\n",
    "            i=i+1\n",
    "\n",
    "        dist.append(math.sqrt(sum(diff)))\n",
    "    p1 = dist.index(min(dist))\n",
    "    dist.pop(p1)\n",
    "    p2 = dist.index(min(dist))\n",
    "    dist.pop(p2)\n",
    "    p3 = dist.index(min(dist))\n",
    "    return (p1, p2, p3)"
   ],
   "id": "ccf5d5610c0d0577",
   "outputs": [],
   "execution_count": 3
  },
  {
   "metadata": {},
   "cell_type": "markdown",
   "source": "",
   "id": "b6f1affe90ae8fa6"
  },
  {
   "metadata": {},
   "cell_type": "markdown",
   "source": "Because the index of the shortest distance is the same as the column name position in `column`, we just have to extract the result",
   "id": "2f10b24f847501f"
  },
  {
   "metadata": {
    "ExecuteTime": {
     "end_time": "2024-06-13T08:16:07.751055Z",
     "start_time": "2024-06-13T08:16:07.729912Z"
    }
   },
   "cell_type": "code",
   "source": [
    "randomTest = '2' # change the value to test an other random point between 1 and 6\n",
    "\n",
    "pos = (columns[nearestPosition(samples[randomTest], map)[0]], columns[nearestPosition(samples[randomTest], map)[1]], columns[nearestPosition(samples[randomTest], map)[2]])\n",
    "print(pos)\n",
    "\n"
   ],
   "id": "e9a5cffdf51c01b1",
   "outputs": [
    {
     "name": "stdout",
     "output_type": "stream",
     "text": [
      "('A308(3)', 'A308(1)', 'A308(1)')\n"
     ]
    }
   ],
   "execution_count": 10
  },
  {
   "metadata": {},
   "cell_type": "markdown",
   "source": [
    "You can test the code by changing the value of `randomTest` to change the test vector \n",
    "\n",
    "As a verification the tests vectors were taken in theses locations:\n",
    "\n",
    "\n",
    "\n",
    "| Test vector  | Position |\n",
    "|:------------:|:--------:|\n",
    "|      1    | A308(1)|\n",
    "|2 | A308(3) |\n",
    "|3| A307(1)|\n",
    "|4   | A307(3)|\n",
    "|5|A304(3)|\n",
    "|6| A304(1)\n",
    "\n",
    "\n",
    "\n"
   ],
   "id": "1942d4a837805fd"
  },
  {
   "metadata": {},
   "cell_type": "markdown",
   "source": "## Now we need to study the case in the corridor",
   "id": "c406c9557874b97e"
  },
  {
   "metadata": {
    "ExecuteTime": {
     "end_time": "2024-06-04T08:23:15.308637Z",
     "start_time": "2024-06-04T08:23:15.299991Z"
    }
   },
   "cell_type": "code",
   "source": [
    "map_couloir = pd.read_csv('map_couloir.csv')\n",
    "map_couloir = map_couloir.drop(map_couloir.columns[0], axis=1) # We take only the data columns, we drop the MAC adresses\n",
    "map_couloir = map_couloir.astype(float) # data are originally Strings and we convert them to floats\n",
    "\n",
    "posCouloir = list(map_couloir.columns)"
   ],
   "id": "78fb6547068ed937",
   "outputs": [],
   "execution_count": 22
  },
  {
   "metadata": {},
   "cell_type": "markdown",
   "source": "Let's define the test data with the position 3 positions A, B, C ",
   "id": "7a41cbe8166524b1"
  },
  {
   "metadata": {
    "ExecuteTime": {
     "end_time": "2024-06-04T08:23:15.339608Z",
     "start_time": "2024-06-04T08:23:15.332159Z"
    }
   },
   "cell_type": "code",
   "source": [
    "tests_couloir = pd.read_csv('tests couloir.csv')\n",
    "\n",
    "#print(tests_couloir)"
   ],
   "id": "1e8e1cff512f3f77",
   "outputs": [],
   "execution_count": 23
  },
  {
   "metadata": {
    "ExecuteTime": {
     "end_time": "2024-06-04T08:25:06.862357Z",
     "start_time": "2024-06-04T08:25:06.853470Z"
    }
   },
   "cell_type": "code",
   "source": [
    "testPos = 'C'\n",
    "\n",
    "posC = (posCouloir[nearestPosition(tests_couloir[testPos], map_couloir)[0]], posCouloir[nearestPosition(tests_couloir[testPos], map_couloir)[1]])\n",
    "print(posC)"
   ],
   "id": "bd5f80a2e8494643",
   "outputs": [
    {
     "name": "stdout",
     "output_type": "stream",
     "text": [
      "('Position 1', 'Position 1')\n"
     ]
    }
   ],
   "execution_count": 27
  },
  {
   "metadata": {},
   "cell_type": "markdown",
   "source": [
    "The tests aren't 100% accurate about the position but they are correct to the room levels, we are currently working on the improvement of the model and to calculate its uncertainties\n",
    "\n",
    "Feel free to contact us at:\n",
    "\n",
    "**Louis MENNRATH:** [louis.mennrath@telecom-sudparis.eu](mailto:louis.mennrath@telecom-sudparis.eu)\n",
    "**Maxence ZHUANG:** [maxence.zhuang@telecom-sudparis.eu](mailto:maxence.zhuang@telecom-sudparis.eu)"
   ],
   "id": "ce7f9b35e104f328"
  }
 ],
 "metadata": {
  "kernelspec": {
   "display_name": "Python 3",
   "language": "python",
   "name": "python3"
  },
  "language_info": {
   "codemirror_mode": {
    "name": "ipython",
    "version": 2
   },
   "file_extension": ".py",
   "mimetype": "text/x-python",
   "name": "python",
   "nbconvert_exporter": "python",
   "pygments_lexer": "ipython2",
   "version": "2.7.6"
  }
 },
 "nbformat": 4,
 "nbformat_minor": 5
}
